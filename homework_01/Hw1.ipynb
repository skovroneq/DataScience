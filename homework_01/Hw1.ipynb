{
 "cells": [
  {
   "cell_type": "code",
   "execution_count": 1,
   "id": "4b5dac91-9762-4a53-bd32-8d76c428f197",
   "metadata": {},
   "outputs": [],
   "source": [
    "import numpy as np"
   ]
  },
  {
   "cell_type": "code",
   "execution_count": 2,
   "id": "0d0f0848-b79c-480f-a82f-9f09a1bb424d",
   "metadata": {},
   "outputs": [
    {
     "name": "stdout",
     "output_type": "stream",
     "text": [
      "[ 1  2  3  4  5  6  7  8  9 10]\n"
     ]
    }
   ],
   "source": [
    "#1\n",
    "a = np.arange(1, 11, 1)\n",
    "print(a)"
   ]
  },
  {
   "cell_type": "code",
   "execution_count": 3,
   "id": "08490b9e-823f-4bce-ba5a-fbff1256c351",
   "metadata": {},
   "outputs": [
    {
     "name": "stdout",
     "output_type": "stream",
     "text": [
      "[[0 0 0]\n",
      " [0 0 0]\n",
      " [0 0 0]]\n"
     ]
    }
   ],
   "source": [
    "#2\n",
    "a = np.zeros((3, 3), dtype=int)\n",
    "print(a)"
   ]
  },
  {
   "cell_type": "code",
   "execution_count": 4,
   "id": "a4591f82-1b61-4673-9047-b7e9a89236ae",
   "metadata": {},
   "outputs": [
    {
     "name": "stdout",
     "output_type": "stream",
     "text": [
      "[[ 3  5  6  9  6]\n",
      " [ 8 10 10  5  4]\n",
      " [ 6  9  4  9  6]\n",
      " [ 5  3  5 10  2]\n",
      " [ 7  7  2  8  8]]\n"
     ]
    }
   ],
   "source": [
    "#3\n",
    "a = np.random.randint(1, 11, size=(5, 5))\n",
    "print(a)"
   ]
  },
  {
   "cell_type": "code",
   "execution_count": 5,
   "id": "6e3a41c1-421e-47d9-aa1b-345731eedbe5",
   "metadata": {},
   "outputs": [
    {
     "name": "stdout",
     "output_type": "stream",
     "text": [
      "[[0.86590823 0.17823542 0.6029116  0.30705297]\n",
      " [0.25216465 0.3093716  0.68818594 0.95847531]\n",
      " [0.21549963 0.61261523 0.77536502 0.29948817]\n",
      " [0.25839366 0.70670572 0.47279857 0.55852115]]\n"
     ]
    }
   ],
   "source": [
    "#4\n",
    "a = np.random.random((4, 4))\n",
    "print(a)"
   ]
  },
  {
   "cell_type": "code",
   "execution_count": 6,
   "id": "ab147fcf-e328-4ddf-90e4-671582885f3f",
   "metadata": {},
   "outputs": [
    {
     "name": "stdout",
     "output_type": "stream",
     "text": [
      "[2 5 1 9 2]\n",
      "[7 3 8 1 2]\n",
      "Dodawanie: [ 9  8  9 10  4]\n",
      "Odejmowanie: [-5  2 -7  8  0]\n",
      "Mnożenie: [14 15  8  9  4]\n"
     ]
    }
   ],
   "source": [
    "#5\n",
    "a = np.random.randint(1, 11, size=5)\n",
    "b = np.random.randint(1, 11, size=5)\n",
    "print(a)\n",
    "print(b)\n",
    "print(f\"Dodawanie: {a + b}\")\n",
    "print(f\"Odejmowanie: {a - b}\")\n",
    "print(f\"Mnożenie: {a * b}\")"
   ]
  },
  {
   "cell_type": "code",
   "execution_count": 7,
   "id": "7f84c652-3668-43b6-9205-e9e1f3864089",
   "metadata": {},
   "outputs": [
    {
     "name": "stdout",
     "output_type": "stream",
     "text": [
      "[0.44059905 0.35616924 0.40699408 0.64578396 0.38284778 0.73049752\n",
      " 0.11137733]\n",
      "[0.16151111 0.35785167 0.60870065 0.41134089 0.8146657  0.59014836\n",
      " 0.15756434]\n",
      "1.4725362729599054\n"
     ]
    }
   ],
   "source": [
    "#6\n",
    "a = np.random.random(7)\n",
    "b = np.random.random(7)\n",
    "print(a)\n",
    "print(b)\n",
    "print(np.dot(a, b))"
   ]
  },
  {
   "cell_type": "code",
   "execution_count": 8,
   "id": "d684fb5b-a3f9-4e76-a2e7-c562d54c62b7",
   "metadata": {},
   "outputs": [
    {
     "name": "stdout",
     "output_type": "stream",
     "text": [
      "[[5 9]\n",
      " [1 4]]\n",
      "[[4 4 8]\n",
      " [4 8 3]]\n",
      "[[56 92 67]\n",
      " [20 36 20]]\n"
     ]
    }
   ],
   "source": [
    "#7\n",
    "a = np.random.randint(1, 11, size=(2, 2))\n",
    "b = np.random.randint(1, 11, size=(2, 3))\n",
    "c = np.dot(a, b)\n",
    "print(a)\n",
    "print(b)\n",
    "print(c)"
   ]
  },
  {
   "cell_type": "code",
   "execution_count": 9,
   "id": "4c4cb3b5-bb6b-4bf1-9323-161b11e2b305",
   "metadata": {},
   "outputs": [
    {
     "name": "stdout",
     "output_type": "stream",
     "text": [
      "[[ 9  6  3]\n",
      " [10 10  4]\n",
      " [ 9  5  4]]\n",
      "[[ 0.55555556 -0.25       -0.16666667]\n",
      " [-0.11111111  0.25       -0.16666667]\n",
      " [-1.11111111  0.25        0.83333333]]\n"
     ]
    }
   ],
   "source": [
    "#8\n",
    "a = np.random.randint(1, 11, size=(3, 3))\n",
    "a_inv = np.linalg.inv(a)\n",
    "print(a)\n",
    "print(a_inv)"
   ]
  },
  {
   "cell_type": "code",
   "execution_count": 10,
   "id": "291c399e-55d3-411d-847b-540457de2c33",
   "metadata": {},
   "outputs": [
    {
     "name": "stdout",
     "output_type": "stream",
     "text": [
      "[[0.46935392 0.0711809  0.32839442 0.89938785]\n",
      " [0.01308026 0.29048826 0.4662629  0.30710058]\n",
      " [0.1858332  0.42286659 0.32872312 0.7649868 ]\n",
      " [0.54896007 0.84714043 0.27343871 0.47769898]]\n"
     ]
    }
   ],
   "source": [
    "#9\n",
    "a = np.random.random((4, 4))\n",
    "b = a.T\n",
    "print(b)"
   ]
  },
  {
   "cell_type": "code",
   "execution_count": 11,
   "id": "abef4cdf-8d1b-42cb-899e-e3a5257de90c",
   "metadata": {},
   "outputs": [
    {
     "name": "stdout",
     "output_type": "stream",
     "text": [
      "[[ 5 10  5  8]\n",
      " [ 9 10  8  5]\n",
      " [ 7  2  3 10]]\n",
      "[3 4 3 5]\n",
      "[110 116  88]\n"
     ]
    }
   ],
   "source": [
    "#10\n",
    "a = np.random.randint(1, 11, size=(3, 4))\n",
    "b = np.random.randint(1, 11, size=4)\n",
    "c = np.dot(a, b)\n",
    "print(a)\n",
    "print(b)\n",
    "print(c)"
   ]
  },
  {
   "cell_type": "code",
   "execution_count": 12,
   "id": "0d285cfa-3b56-4787-93cc-1a48c1abcb6f",
   "metadata": {},
   "outputs": [
    {
     "name": "stdout",
     "output_type": "stream",
     "text": [
      "[[0.00209596 0.71670113 0.30698241]\n",
      " [0.62540296 0.22473656 0.74895263]]\n",
      "[0.18896526 0.93668451 0.47158256]\n",
      "[0.81648645 0.68187969]\n"
     ]
    }
   ],
   "source": [
    "#11\n",
    "a = np.random.random((2, 3))\n",
    "b = np.random.random(3)\n",
    "c = np.dot(a, b)\n",
    "print(a)\n",
    "print(b)\n",
    "print(c)"
   ]
  },
  {
   "cell_type": "code",
   "execution_count": 13,
   "id": "ed8a6adb-7d16-4d35-8b4a-420e1b7a86a0",
   "metadata": {},
   "outputs": [
    {
     "name": "stdout",
     "output_type": "stream",
     "text": [
      "[[10 10]\n",
      " [ 4  3]]\n",
      "[[10  7]\n",
      " [ 9  9]]\n",
      "[[100  70]\n",
      " [ 36  27]]\n"
     ]
    }
   ],
   "source": [
    "#12\n",
    "a = np.random.randint(1, 11, size=(2, 2))\n",
    "b = np.random.randint(1, 11, size=(2, 2))\n",
    "c = a * b\n",
    "print(a)\n",
    "print(b)\n",
    "print(c)"
   ]
  },
  {
   "cell_type": "code",
   "execution_count": 14,
   "id": "79af9ff3-fa6d-4adf-8b20-392924880289",
   "metadata": {},
   "outputs": [
    {
     "name": "stdout",
     "output_type": "stream",
     "text": [
      "[[ 6  1]\n",
      " [10  8]]\n",
      "[[1 9]\n",
      " [6 7]]\n",
      "[[ 12  61]\n",
      " [ 58 146]]\n"
     ]
    }
   ],
   "source": [
    "#13\n",
    "a = np.random.randint(1, 11, size=(2, 2))\n",
    "b = np.random.randint(1, 11, size=(2, 2))\n",
    "c = np.dot(a, b)\n",
    "print(a)\n",
    "print(b)\n",
    "print(c)"
   ]
  },
  {
   "cell_type": "code",
   "execution_count": 15,
   "id": "60035630-68d8-491c-ad6f-dee5a76b66f4",
   "metadata": {},
   "outputs": [
    {
     "name": "stdout",
     "output_type": "stream",
     "text": [
      "[[ 94  15  20  27  12]\n",
      " [ 82  32  56  61  30]\n",
      " [ 71 100  24  60  53]\n",
      " [ 49  35  10 100  58]\n",
      " [ 67   5  67  92  82]]\n",
      "1302\n"
     ]
    }
   ],
   "source": [
    "#14\n",
    "a = np.random.randint(1, 101, size=(5, 5))\n",
    "print(a)\n",
    "print(a.sum())"
   ]
  },
  {
   "cell_type": "code",
   "execution_count": 16,
   "id": "2d042f95-8498-44bc-ad7f-175bb7898bf8",
   "metadata": {},
   "outputs": [
    {
     "name": "stdout",
     "output_type": "stream",
     "text": [
      "[[ 6  7  2  3]\n",
      " [ 9 10  2  4]\n",
      " [ 3  5  7  3]\n",
      " [10 10  9  3]]\n",
      "[[ 3  8  5  1]\n",
      " [ 2  2  3 10]\n",
      " [ 7 10  4  6]\n",
      " [ 6  8  5  6]]\n",
      "[[ 3 -1 -3  2]\n",
      " [ 7  8 -1 -6]\n",
      " [-4 -5  3 -3]\n",
      " [ 4  2  4 -3]]\n"
     ]
    }
   ],
   "source": [
    "#15\n",
    "a = np.random.randint(1, 11, size=(4, 4))\n",
    "b = np.random.randint(1, 11, size=(4, 4))\n",
    "print(a)\n",
    "print(b)\n",
    "print(a - b)"
   ]
  },
  {
   "cell_type": "code",
   "execution_count": 17,
   "id": "ad732307-f47a-426e-bf15-aab1c8559016",
   "metadata": {},
   "outputs": [
    {
     "name": "stdout",
     "output_type": "stream",
     "text": [
      "[[0.92574459 0.46050597 0.65412909]\n",
      " [0.52280137 0.7637324  0.27935153]\n",
      " [0.79989973 0.52676127 0.19665662]]\n",
      "[[2.24844569]\n",
      " [1.75099963]\n",
      " [1.13013725]]\n"
     ]
    }
   ],
   "source": [
    "#16\n",
    "a = np.random.random((3, 3))\n",
    "a1 = a[:, 0]\n",
    "a2 = a[:, 1]\n",
    "a3 = a[:, 2]\n",
    "b = np.array([[a1.sum()], [a2.sum()], [a3.sum()]])\n",
    "print(a)\n",
    "print(b)"
   ]
  },
  {
   "cell_type": "code",
   "execution_count": 18,
   "id": "ee046e77-fac1-4327-b715-250b981d5311",
   "metadata": {},
   "outputs": [
    {
     "name": "stdout",
     "output_type": "stream",
     "text": [
      "[[  1   4   9  16]\n",
      " [ 25  36  49  64]\n",
      " [ 81 100 121 144]]\n"
     ]
    }
   ],
   "source": [
    "#17\n",
    "a = np.array([[1, 2, 3, 4],\n",
    "              [5, 6, 7, 8],\n",
    "              [9, 10, 11, 12]])\n",
    "b = np.square(a)\n",
    "print(b)"
   ]
  },
  {
   "cell_type": "code",
   "execution_count": 19,
   "id": "2bf34762-9d0e-471f-b3e2-0b8c5bb649e1",
   "metadata": {},
   "outputs": [
    {
     "name": "stdout",
     "output_type": "stream",
     "text": [
      "[23 23  8 14]\n",
      "[4.79583152 4.79583152 2.82842712 3.74165739]\n"
     ]
    }
   ],
   "source": [
    "#18\n",
    "a = np.random.randint(1, 51, size=4)\n",
    "b = np.sqrt(a)\n",
    "print(a)\n",
    "print(b)"
   ]
  }
 ],
 "metadata": {
  "kernelspec": {
   "display_name": "Python 3 (ipykernel)",
   "language": "python",
   "name": "python3"
  },
  "language_info": {
   "codemirror_mode": {
    "name": "ipython",
    "version": 3
   },
   "file_extension": ".py",
   "mimetype": "text/x-python",
   "name": "python",
   "nbconvert_exporter": "python",
   "pygments_lexer": "ipython3",
   "version": "3.11.4"
  }
 },
 "nbformat": 4,
 "nbformat_minor": 5
}
