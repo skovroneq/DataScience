{
 "cells": [
  {
   "cell_type": "code",
   "execution_count": 1,
   "id": "aba32aa8-f87f-4d12-8d48-9331e8c67918",
   "metadata": {},
   "outputs": [],
   "source": [
    "from surprise import Dataset\n",
    "from surprise.prediction_algorithms.matrix_factorization import SVD, SVDpp, NMF\n",
    "from surprise.model_selection import cross_validate, GridSearchCV"
   ]
  },
  {
   "cell_type": "code",
   "execution_count": 2,
   "id": "1a86aa93-1f8f-4133-b92e-42ae29ac3865",
   "metadata": {},
   "outputs": [],
   "source": [
    "data = Dataset.load_builtin(\"ml-100k\")"
   ]
  },
  {
   "cell_type": "code",
   "execution_count": 3,
   "id": "2a999655-8412-4388-80ca-6c4992e9ec19",
   "metadata": {},
   "outputs": [
    {
     "name": "stdout",
     "output_type": "stream",
     "text": [
      "Best RMSE for SVD:  0.9343235749707863\n",
      "Best parameters for SVD:  {'n_factors': 20, 'lr_all': 0.005, 'reg_all': 0.02}\n",
      "Best RMSE for SVD++:  0.9177928173113624\n",
      "Best parameters for SVD++:  {'n_factors': 20, 'lr_all': 0.005, 'reg_all': 0.02}\n",
      "Best RMSE for NMF:  0.9379121933510554\n",
      "Best parameters for NMF:  {'n_factors': 100, 'reg_pu': 0.1, 'reg_qi': 0.1, 'biased': False}\n",
      "The best algorithm is SVD++ with an RMSE of 0.9177928173113624\n"
     ]
    }
   ],
   "source": [
    "param_grid_svd = {'n_factors': [20, 50, 100], 'lr_all': [0.002, 0.005], 'reg_all': [0.02, 0.1]}\n",
    "param_grid_svdpp = {'n_factors': [20, 50, 100], 'lr_all': [0.002, 0.005], 'reg_all': [0.02, 0.1]}\n",
    "param_grid_nmf = {'n_factors': [20, 50, 100], 'reg_pu': [0.06, 0.1], 'reg_qi': [0.06, 0.1], 'biased': [True, False]}\n",
    "\n",
    "# Perform grid search cross-validation for each algorithm\n",
    "gs_svd = GridSearchCV(SVD, param_grid_svd, measures=['rmse'], cv=5)\n",
    "gs_svdpp = GridSearchCV(SVDpp, param_grid_svdpp, measures=['rmse'], cv=5)\n",
    "gs_nmf = GridSearchCV(NMF, param_grid_nmf, measures=['rmse'], cv=5)\n",
    "\n",
    "gs_svd.fit(data)\n",
    "gs_svdpp.fit(data)\n",
    "gs_nmf.fit(data)\n",
    "\n",
    "# Get the best RMSE score and the corresponding parameters for each algorithm\n",
    "print(\"Best RMSE for SVD: \", gs_svd.best_score['rmse'])\n",
    "print(\"Best parameters for SVD: \", gs_svd.best_params['rmse'])\n",
    "\n",
    "print(\"Best RMSE for SVD++: \", gs_svdpp.best_score['rmse'])\n",
    "print(\"Best parameters for SVD++: \", gs_svdpp.best_params['rmse'])\n",
    "\n",
    "print(\"Best RMSE for NMF: \", gs_nmf.best_score['rmse'])\n",
    "print(\"Best parameters for NMF: \", gs_nmf.best_params['rmse'])\n",
    "\n",
    "# Choose the algorithm with the lowest RMSE\n",
    "best_algo = min((gs_svd, 'SVD'), (gs_svdpp, 'SVD++'), (gs_nmf, 'NMF'), key=lambda x: x[0].best_score['rmse'])\n",
    "\n",
    "print(f\"The best algorithm is {best_algo[1]} with an RMSE of {best_algo[0].best_score['rmse']}\")"
   ]
  }
 ],
 "metadata": {
  "kernelspec": {
   "display_name": "Python 3 (ipykernel)",
   "language": "python",
   "name": "python3"
  },
  "language_info": {
   "codemirror_mode": {
    "name": "ipython",
    "version": 3
   },
   "file_extension": ".py",
   "mimetype": "text/x-python",
   "name": "python",
   "nbconvert_exporter": "python",
   "pygments_lexer": "ipython3",
   "version": "3.11.8"
  }
 },
 "nbformat": 4,
 "nbformat_minor": 5
}
