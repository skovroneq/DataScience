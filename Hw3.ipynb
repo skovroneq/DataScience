{
 "cells": [
  {
   "cell_type": "code",
   "execution_count": 1,
   "id": "73eafd4e-393f-4312-b892-6a8dd704baf8",
   "metadata": {},
   "outputs": [],
   "source": [
    "import numpy as np\n",
    "from sklearn.linear_model import LinearRegression\n",
    "from sklearn.model_selection import train_test_split\n",
    "from sklearn.metrics import mean_squared_error\n",
    "import pandas as pd"
   ]
  },
  {
   "cell_type": "code",
   "execution_count": 2,
   "id": "de01f4cd-d931-4db5-9de8-480a25fade11",
   "metadata": {},
   "outputs": [],
   "source": [
    "def linear_regression_hypothesis(X, w):\n",
    "    return np.dot(X, w)"
   ]
  },
  {
   "cell_type": "code",
   "execution_count": 3,
   "id": "3830b4a7-42e4-40fc-b271-39416e461b55",
   "metadata": {},
   "outputs": [],
   "source": [
    "def loss_function(X, w, y):\n",
    "    m = len(y)\n",
    "    h = linear_regression_hypothesis(X, w)\n",
    "    J = np.sum((h - y) **2)/(2*m)\n",
    "    return J"
   ]
  },
  {
   "cell_type": "code",
   "execution_count": 4,
   "id": "9400fd6c-a62c-4a3e-acdf-17cf6e07f32a",
   "metadata": {},
   "outputs": [],
   "source": [
    "def gradient_descent_step(X, y, w, alpha):\n",
    "    m = len(y)\n",
    "    h = linear_regression_hypothesis(X, w)\n",
    "    gradient = np.dot(X.T, (h - y)) / m\n",
    "    w = w - alpha * gradient\n",
    "    return w"
   ]
  },
  {
   "cell_type": "code",
   "execution_count": 5,
   "id": "d70d6c8c-a948-4a16-bc30-8603f5352eac",
   "metadata": {},
   "outputs": [],
   "source": [
    "apartments = pd.read_csv(\"Housing.csv\")"
   ]
  },
  {
   "cell_type": "code",
   "execution_count": 6,
   "id": "5c3da3d6-9f9c-467d-a640-dd4b748288c3",
   "metadata": {},
   "outputs": [
    {
     "name": "stdout",
     "output_type": "stream",
     "text": [
      "Model coefficients:\n",
      " [3.45466570e+02 3.60197650e+05 1.42231966e+06]\n"
     ]
    }
   ],
   "source": [
    "X = apartments[['area', 'bedrooms', 'bathrooms']]\n",
    "y = apartments['price']\n",
    "\n",
    "model = LinearRegression()\n",
    "model.fit(X, y)\n",
    "\n",
    "X_train, X_test, y_train, y_test = train_test_split(X, y, test_size=0.2, random_state=42)\n",
    "\n",
    "model = LinearRegression()\n",
    "model.fit(X_train, y_train)\n",
    "\n",
    "coefficients = model.coef_\n",
    "intercept = model.intercept_\n",
    "\n",
    "print(\"Model coefficients:\\n\", coefficients)"
   ]
  },
  {
   "cell_type": "code",
   "execution_count": 7,
   "id": "cee14fc3-bd14-4099-b78f-eb80845803af",
   "metadata": {},
   "outputs": [
    {
     "name": "stdout",
     "output_type": "stream",
     "text": [
      "Analytical coefficients:\n",
      " [[3.72448352e+02]\n",
      " [3.68974672e+05]\n",
      " [1.37031315e+06]]\n"
     ]
    }
   ],
   "source": [
    "X = apartments[[\"area\", \"bedrooms\", \"bathrooms\"]]\n",
    "y = apartments[\"price\"].values.reshape(-1, 1)\n",
    "w = np.dot(np.dot(np.linalg.inv((np.dot(X.T, X))), X.T), y)\n",
    "\n",
    "print(\"Analytical coefficients:\\n\", w)"
   ]
  },
  {
   "cell_type": "code",
   "execution_count": 8,
   "id": "bcb93b8f-dd03-405a-a9da-24a4612ef06a",
   "metadata": {},
   "outputs": [
    {
     "name": "stdout",
     "output_type": "stream",
     "text": [
      "Model solution:\n",
      " area: 345.46657008311115\n",
      " bedrooms: 360197.6504575056\n",
      " bathrooms: 1422319.6576414115\n",
      "\n",
      "Analytical solution:\n",
      " area: 372.4483516514226\n",
      " bedrooms: 368974.67150422983\n",
      " bathrooms: 1370313.1459151192\n"
     ]
    }
   ],
   "source": [
    "scikit_params = {}\n",
    "for i, param in enumerate([\"area\", \"bedrooms\", \"bathrooms\"]):\n",
    "    scikit_params[param] = coefficients[i]\n",
    "\n",
    "analytical_params = {}\n",
    "for i, param in enumerate([\"area\", \"bedrooms\", \"bathrooms\"]):\n",
    "    analytical_params[param] = w[i][0]\n",
    "\n",
    "print(\"Model solution:\")\n",
    "for param, value in scikit_params.items():\n",
    "    print(f\" {param}: {value}\")\n",
    "    \n",
    "print(\"\\nAnalytical solution:\")\n",
    "for param, value in analytical_params.items():\n",
    "    print(f\" {param}: {value}\")"
   ]
  }
 ],
 "metadata": {
  "kernelspec": {
   "display_name": "Python 3 (ipykernel)",
   "language": "python",
   "name": "python3"
  },
  "language_info": {
   "codemirror_mode": {
    "name": "ipython",
    "version": 3
   },
   "file_extension": ".py",
   "mimetype": "text/x-python",
   "name": "python",
   "nbconvert_exporter": "python",
   "pygments_lexer": "ipython3",
   "version": "3.11.8"
  }
 },
 "nbformat": 4,
 "nbformat_minor": 5
}
